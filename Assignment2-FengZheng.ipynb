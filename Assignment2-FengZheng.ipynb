{
 "cells": [
  {
   "cell_type": "code",
   "execution_count": 1,
   "id": "379f8608",
   "metadata": {},
   "outputs": [],
   "source": [
    "# import libraries\n",
    "import pandas as pd\n",
    "import numpy as np\n",
    "import matplotlib.pyplot as plt"
   ]
  },
  {
   "cell_type": "code",
   "execution_count": 2,
   "id": "87da8308",
   "metadata": {},
   "outputs": [
    {
     "data": {
      "text/html": [
       "<div>\n",
       "<style scoped>\n",
       "    .dataframe tbody tr th:only-of-type {\n",
       "        vertical-align: middle;\n",
       "    }\n",
       "\n",
       "    .dataframe tbody tr th {\n",
       "        vertical-align: top;\n",
       "    }\n",
       "\n",
       "    .dataframe thead th {\n",
       "        text-align: right;\n",
       "    }\n",
       "</style>\n",
       "<table border=\"1\" class=\"dataframe\">\n",
       "  <thead>\n",
       "    <tr style=\"text-align: right;\">\n",
       "      <th></th>\n",
       "      <th>Pregnancies</th>\n",
       "      <th>Glucose</th>\n",
       "      <th>BloodPressure</th>\n",
       "      <th>SkinThickness</th>\n",
       "      <th>Insulin</th>\n",
       "      <th>BMI</th>\n",
       "      <th>DiabetesPedigreeFunction</th>\n",
       "      <th>Age</th>\n",
       "      <th>Outcome</th>\n",
       "    </tr>\n",
       "  </thead>\n",
       "  <tbody>\n",
       "    <tr>\n",
       "      <th>0</th>\n",
       "      <td>6</td>\n",
       "      <td>148</td>\n",
       "      <td>72</td>\n",
       "      <td>35</td>\n",
       "      <td>0</td>\n",
       "      <td>33.6</td>\n",
       "      <td>0.627</td>\n",
       "      <td>50</td>\n",
       "      <td>1</td>\n",
       "    </tr>\n",
       "    <tr>\n",
       "      <th>1</th>\n",
       "      <td>1</td>\n",
       "      <td>85</td>\n",
       "      <td>66</td>\n",
       "      <td>29</td>\n",
       "      <td>0</td>\n",
       "      <td>26.6</td>\n",
       "      <td>0.351</td>\n",
       "      <td>31</td>\n",
       "      <td>0</td>\n",
       "    </tr>\n",
       "    <tr>\n",
       "      <th>2</th>\n",
       "      <td>8</td>\n",
       "      <td>183</td>\n",
       "      <td>64</td>\n",
       "      <td>0</td>\n",
       "      <td>0</td>\n",
       "      <td>23.3</td>\n",
       "      <td>0.672</td>\n",
       "      <td>32</td>\n",
       "      <td>1</td>\n",
       "    </tr>\n",
       "    <tr>\n",
       "      <th>3</th>\n",
       "      <td>1</td>\n",
       "      <td>89</td>\n",
       "      <td>66</td>\n",
       "      <td>23</td>\n",
       "      <td>94</td>\n",
       "      <td>28.1</td>\n",
       "      <td>0.167</td>\n",
       "      <td>21</td>\n",
       "      <td>0</td>\n",
       "    </tr>\n",
       "    <tr>\n",
       "      <th>4</th>\n",
       "      <td>0</td>\n",
       "      <td>137</td>\n",
       "      <td>40</td>\n",
       "      <td>35</td>\n",
       "      <td>168</td>\n",
       "      <td>43.1</td>\n",
       "      <td>2.288</td>\n",
       "      <td>33</td>\n",
       "      <td>1</td>\n",
       "    </tr>\n",
       "    <tr>\n",
       "      <th>...</th>\n",
       "      <td>...</td>\n",
       "      <td>...</td>\n",
       "      <td>...</td>\n",
       "      <td>...</td>\n",
       "      <td>...</td>\n",
       "      <td>...</td>\n",
       "      <td>...</td>\n",
       "      <td>...</td>\n",
       "      <td>...</td>\n",
       "    </tr>\n",
       "    <tr>\n",
       "      <th>763</th>\n",
       "      <td>10</td>\n",
       "      <td>101</td>\n",
       "      <td>76</td>\n",
       "      <td>48</td>\n",
       "      <td>180</td>\n",
       "      <td>32.9</td>\n",
       "      <td>0.171</td>\n",
       "      <td>63</td>\n",
       "      <td>0</td>\n",
       "    </tr>\n",
       "    <tr>\n",
       "      <th>764</th>\n",
       "      <td>2</td>\n",
       "      <td>122</td>\n",
       "      <td>70</td>\n",
       "      <td>27</td>\n",
       "      <td>0</td>\n",
       "      <td>36.8</td>\n",
       "      <td>0.340</td>\n",
       "      <td>27</td>\n",
       "      <td>0</td>\n",
       "    </tr>\n",
       "    <tr>\n",
       "      <th>765</th>\n",
       "      <td>5</td>\n",
       "      <td>121</td>\n",
       "      <td>72</td>\n",
       "      <td>23</td>\n",
       "      <td>112</td>\n",
       "      <td>26.2</td>\n",
       "      <td>0.245</td>\n",
       "      <td>30</td>\n",
       "      <td>0</td>\n",
       "    </tr>\n",
       "    <tr>\n",
       "      <th>766</th>\n",
       "      <td>1</td>\n",
       "      <td>126</td>\n",
       "      <td>60</td>\n",
       "      <td>0</td>\n",
       "      <td>0</td>\n",
       "      <td>30.1</td>\n",
       "      <td>0.349</td>\n",
       "      <td>47</td>\n",
       "      <td>1</td>\n",
       "    </tr>\n",
       "    <tr>\n",
       "      <th>767</th>\n",
       "      <td>1</td>\n",
       "      <td>93</td>\n",
       "      <td>70</td>\n",
       "      <td>31</td>\n",
       "      <td>0</td>\n",
       "      <td>30.4</td>\n",
       "      <td>0.315</td>\n",
       "      <td>23</td>\n",
       "      <td>0</td>\n",
       "    </tr>\n",
       "  </tbody>\n",
       "</table>\n",
       "<p>768 rows × 9 columns</p>\n",
       "</div>"
      ],
      "text/plain": [
       "     Pregnancies  Glucose  BloodPressure  SkinThickness  Insulin   BMI  \\\n",
       "0              6      148             72             35        0  33.6   \n",
       "1              1       85             66             29        0  26.6   \n",
       "2              8      183             64              0        0  23.3   \n",
       "3              1       89             66             23       94  28.1   \n",
       "4              0      137             40             35      168  43.1   \n",
       "..           ...      ...            ...            ...      ...   ...   \n",
       "763           10      101             76             48      180  32.9   \n",
       "764            2      122             70             27        0  36.8   \n",
       "765            5      121             72             23      112  26.2   \n",
       "766            1      126             60              0        0  30.1   \n",
       "767            1       93             70             31        0  30.4   \n",
       "\n",
       "     DiabetesPedigreeFunction  Age  Outcome  \n",
       "0                       0.627   50        1  \n",
       "1                       0.351   31        0  \n",
       "2                       0.672   32        1  \n",
       "3                       0.167   21        0  \n",
       "4                       2.288   33        1  \n",
       "..                        ...  ...      ...  \n",
       "763                     0.171   63        0  \n",
       "764                     0.340   27        0  \n",
       "765                     0.245   30        0  \n",
       "766                     0.349   47        1  \n",
       "767                     0.315   23        0  \n",
       "\n",
       "[768 rows x 9 columns]"
      ]
     },
     "execution_count": 2,
     "metadata": {},
     "output_type": "execute_result"
    }
   ],
   "source": [
    "# Load data\n",
    "df = pd.read_csv('diabetes.csv')\n",
    "df"
   ]
  },
  {
   "cell_type": "markdown",
   "id": "a73c0d5e",
   "metadata": {},
   "source": [
    "## Part A"
   ]
  },
  {
   "cell_type": "code",
   "execution_count": 3,
   "id": "38e80b98",
   "metadata": {},
   "outputs": [],
   "source": [
    "# Set seed for reproducibility\n",
    "np.random.seed(123)"
   ]
  },
  {
   "cell_type": "code",
   "execution_count": 4,
   "id": "61bf16f2",
   "metadata": {},
   "outputs": [],
   "source": [
    "# Random sample of 25 observations\n",
    "df_sample = df.sample(n=25)"
   ]
  },
  {
   "cell_type": "code",
   "execution_count": 5,
   "id": "7eb3e25a",
   "metadata": {},
   "outputs": [
    {
     "name": "stdout",
     "output_type": "stream",
     "text": [
      "Sample mean glucose: 130.36\n",
      "Population mean glucose: 120.89453125\n",
      "Sample highest glucose: 197\n",
      "Population highest glucose: 199\n"
     ]
    },
    {
     "data": {
      "image/png": "[encoded data removed]",
      "text/plain": [
       "<Figure size 640x480 with 1 Axes>"
      ]
     },
     "metadata": {},
     "output_type": "display_data"
    }
   ],
   "source": [
    "# Calculate mean and max glucose values of sample\n",
    "sample_mean_glucose = df_sample['Glucose'].mean()\n",
    "sample_max_glucose = df_sample['Glucose'].max()\n",
    "\n",
    "# Calculate mean and max glucose values of population\n",
    "df_mean_glucose = df['Glucose'].mean()\n",
    "df_max_glucose = df['Glucose'].max()\n",
    "\n",
    "# Report\n",
    "print(\"Sample mean glucose:\", sample_mean_glucose)\n",
    "print(\"Population mean glucose:\", df_mean_glucose)\n",
    "print(\"Sample highest glucose:\", sample_max_glucose)\n",
    "print(\"Population highest glucose:\", df_max_glucose)\n",
    "\n",
    "# Plot\n",
    "fig, ax = plt.subplots()\n",
    "ax.boxplot([df_sample['Glucose'], df['Glucose']])\n",
    "ax.set_xticklabels(['Sample', 'Population'])\n",
    "ax.set_ylabel('Glucose')\n",
    "plt.show()"
   ]
  },
  {
   "cell_type": "markdown",
   "id": "ed145b4b",
   "metadata": {},
   "source": [
    "## Part B"
   ]
  },
  {
   "cell_type": "code",
   "execution_count": 6,
   "id": "71ac08da",
   "metadata": {},
   "outputs": [
    {
     "name": "stdout",
     "output_type": "stream",
     "text": [
      "Sample 98th percentile BMI: 45.263999999999996\n",
      "Population 98th percentile BMI: 47.52599999999996\n"
     ]
    },
    {
     "data": {
      "image/png": "[encoded data removed]",
      "text/plain": [
       "<Figure size 640x480 with 1 Axes>"
      ]
     },
     "metadata": {},
     "output_type": "display_data"
    }
   ],
   "source": [
    "# Find the 98th percentile BMI for sample and population\n",
    "sample_98th_percentile_bmi = np.percentile(df_sample['BMI'], 98)\n",
    "df_98th_percentile_bmi = np.percentile(df['BMI'], 98)\n",
    "\n",
    "# Report\n",
    "print(\"Sample 98th percentile BMI:\", sample_98th_percentile_bmi)\n",
    "print(\"Population 98th percentile BMI:\", df_98th_percentile_bmi)\n",
    "\n",
    "# Plot\n",
    "fig, ax = plt.subplots()\n",
    "ax.boxplot([df_sample['BMI'], df['BMI']])\n",
    "ax.set_xticklabels(['Sample', 'Population'])\n",
    "ax.set_ylabel('BMI')\n",
    "plt.show()"
   ]
  },
  {
   "cell_type": "markdown",
   "id": "cbe81e49",
   "metadata": {},
   "source": [
    "## Part C"
   ]
  },
  {
   "cell_type": "code",
   "execution_count": 7,
   "id": "3c72fa2c",
   "metadata": {},
   "outputs": [],
   "source": [
    "# Declare list\n",
    "sample_means = np.zeros(500)\n",
    "sample_stds = np.zeros(500)\n",
    "sample_98th_percentiles = np.zeros(500)\n",
    "\n",
    "# Create 500 bootstrap samples with size of 150 obeservations\n",
    "for i in range(500):\n",
    "    temp_sample = np.random.choice(df['BloodPressure'], 150, replace=True)\n",
    "    \n",
    "    # Append it into list\n",
    "    sample_means[i] = temp_sample.mean()\n",
    "    sample_stds[i] = temp_sample.std()\n",
    "    sample_98th_percentiles[i] = np.percentile(temp_sample, 98)"
   ]
  },
  {
   "cell_type": "code",
   "execution_count": 8,
   "id": "f2994aff",
   "metadata": {},
   "outputs": [
    {
     "name": "stdout",
     "output_type": "stream",
     "text": [
      "Population mean blood pressure: 69.10546875\n",
      "Bootstrap mean blood pressure: 69.15464\n",
      "Population standard deviation of blood pressure: 19.355807170644777\n",
      "Bootstrap standard deviation of blood pressure: 19.140748280552828\n",
      "Population 98th percentile of blood pressure: 99.31999999999994\n",
      "Bootstrap 98th percentile of blood pressure: 98.02348000000003\n"
     ]
    },
    {
     "data": {
      "image/png": "[encoded data removed]",
      "text/plain": [
       "<Figure size 640x480 with 1 Axes>"
      ]
     },
     "metadata": {},
     "output_type": "display_data"
    }
   ],
   "source": [
    "# Calculate the mean, standard deviation, and 98th percentile of bootstrap sample\n",
    "sample_mean_bp = sample_means.mean()\n",
    "sample_std_bp = sample_stds.mean()\n",
    "sample_98th_percentile_bp = sample_98th_percentiles.mean()\n",
    "\n",
    "# Calculate the mean, standard deviation, and 98th percentile of population\n",
    "df_mean_bp = df['BloodPressure'].mean()\n",
    "df_std_bp = df['BloodPressure'].std()\n",
    "df_98th_percentile_bp = np.percentile(df['BloodPressure'], 98)\n",
    "\n",
    "# Print the results\n",
    "print(\"Population mean blood pressure:\", df_mean_bp)\n",
    "print(\"Bootstrap mean blood pressure:\", sample_mean_bp)\n",
    "print(\"Population standard deviation of blood pressure:\", df_std_bp)\n",
    "print(\"Bootstrap standard deviation of blood pressure:\", sample_std_bp)\n",
    "print(\"Population 98th percentile of blood pressure:\", df_98th_percentile_bp)\n",
    "print(\"Bootstrap 98th percentile of blood pressure:\", sample_98th_percentile_bp)\n",
    "\n",
    "# Plot\n",
    "X = [\"Mean\",\"STD\",\"98th Percentile\"]\n",
    "X_axis = np.arange(len(X))\n",
    "plt.bar(X_axis - 0.2, [df_mean_bp,df_std_bp,df_98th_percentile_bp], 0.4, label = 'Population')\n",
    "plt.bar(X_axis + 0.2, [sample_mean_bp,sample_std_bp,sample_98th_percentile_bp], 0.4, label = 'Sample')\n",
    "plt.xticks(X_axis, X)\n",
    "plt.ylabel(\"Blood Pressure\")\n",
    "plt.legend()\n",
    "plt.show()"
   ]
  },
  {
   "cell_type": "code",
   "execution_count": null,
   "id": "2a7c3632",
   "metadata": {},
   "outputs": [],
   "source": []
  }
 ],
 "metadata": {
  "kernelspec": {
   "display_name": "myenv",
   "language": "python",
   "name": "myenv"
  },
  "language_info": {
   "codemirror_mode": {
    "name": "ipython",
    "version": 3
   },
   "file_extension": ".py",
   "mimetype": "text/x-python",
   "name": "python",
   "nbconvert_exporter": "python",
   "pygments_lexer": "ipython3",
   "version": "3.9.0"
  }
 },
 "nbformat": 4,
 "nbformat_minor": 5
}
